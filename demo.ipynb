{
 "cells": [
  {
   "cell_type": "code",
   "execution_count": null,
   "metadata": {},
   "outputs": [],
   "source": [
    "# Import packages\n",
    "import os\n",
    "import numpy as np\n",
    "import matplotlib.pyplot as plt\n",
    "from firedrake import *\n",
    "from tqdm.auto import tqdm\n",
    "from numpy.random import default_rng\n",
    "import matplotlib.pyplot as plt\n",
    "from movement import *\n",
    "from firedrake.meshadapt import *"
   ]
  },
  {
   "cell_type": "code",
   "execution_count": null,
   "metadata": {},
   "outputs": [],
   "source": [
    "# Generate random fields for para\n",
    "# You need to validate that \n",
    "def random_field(V, N: int = 1, m: int = 5, σ: float = 0.6, seed: int = 2023):\n",
    "    rng = default_rng(seed)\n",
    "    x, y = SpatialCoordinate(V.mesh())\n",
    "    fields = []\n",
    "    for _ in tqdm(range(N), disable=False):\n",
    "        r = 0\n",
    "        for _ in range(m):\n",
    "            a, b = rng.standard_normal(2)\n",
    "            k1, k2 = rng.normal(0, σ, 2)\n",
    "            θ = 2 * np.pi * (k1 * x + k2 * y)\n",
    "            r += Constant(a/2) * cos(θ) + Constant(b/2) * sin(θ) + Constant(1)\n",
    "        fields.append(Function(V).interpolate(sqrt(1 / m) * r))\n",
    "    return fields"
   ]
  },
  {
   "cell_type": "code",
   "execution_count": null,
   "metadata": {},
   "outputs": [],
   "source": [
    "# Define the function space\n",
    "nx, ny, Lx, Ly = 20, 20, 1., 1.\n",
    "mesh = RectangleMesh(nx, ny, Lx, Ly)\n",
    "V = FunctionSpace(mesh, \"CG\", 1)"
   ]
  },
  {
   "cell_type": "code",
   "execution_count": null,
   "metadata": {},
   "outputs": [],
   "source": [
    "#visualize initial mesh\n",
    "fig, axes = plt.subplots(figsize=(12, 6))\n",
    "triplot(mesh, axes=axes)\n",
    "axes.legend()\n",
    "plt.show()"
   ]
  },
  {
   "cell_type": "code",
   "execution_count": null,
   "metadata": {},
   "outputs": [],
   "source": [
    "# Generate random field data for 10 examples\n",
    "ks = random_field(V, N=10) \n",
    "\n",
    "# Visualize the 10 training data in 5x2 subplots\n",
    "fig, axs = plt.subplots(5, 2, figsize=(15, 15))\n",
    "\n",
    "# Plot each random field in a separate subplot\n",
    "for i in range(5):\n",
    "    for j in range(2):\n",
    "        index = 2*i + j\n",
    "        k_plot = tricontourf(ks[index], axes=axs[i, j])\n",
    "        plt.colorbar(k_plot, ax=axs[i, j])\n",
    "        axs[i, j].set_title(f'k Example {index + 1}')\n",
    "plt.tight_layout()\n",
    "plt.show()"
   ]
  },
  {
   "cell_type": "markdown",
   "metadata": {},
   "source": [
    "Here we start to generate 1 data to have experiment and test\n",
    "\n",
    "This part will furher used to generate training data/ test data for the cnn\n",
    "\n",
    "here we will generate parameters and solve the variational problems with firedrake.\n",
    "You can also try to modify other physics driven problems."
   ]
  },
  {
   "cell_type": "code",
   "execution_count": null,
   "metadata": {},
   "outputs": [],
   "source": [
    "ks = random_field(V, N=1)\n",
    "us = []\n",
    "v = TestFunction(V)\n",
    "x, y = SpatialCoordinate(mesh)\n",
    "f = Function(V).interpolate(sin(np.pi * x) * sin(np.pi * y) + 2 * np.pi**2 * cos(np.pi * x) * cos(np.pi * y))  # Source term\n",
    "g = Function(V).interpolate(cos(np.pi * x) * cos(np.pi * y))  # Boundary condition\n",
    "bcs = [DirichletBC(V, g, \"on_boundary\")]\n",
    "for k in tqdm(ks):\n",
    "    u = Function(V)\n",
    "    F = (inner(grad(u), grad(v)) - inner(f, v)) * dx\n",
    "    solve(F == 0, u, bcs=bcs, solver_parameters={'ksp_type': 'preonly', 'pc_type': 'lu'})\n",
    "    us.append(u)"
   ]
  },
  {
   "cell_type": "code",
   "execution_count": null,
   "metadata": {},
   "outputs": [],
   "source": [
    "# Plot u\n",
    "u_plot = tricontourf(us[0])\n",
    "plt.colorbar(u_plot)\n",
    "plt.show()"
   ]
  },
  {
   "cell_type": "markdown",
   "metadata": {},
   "source": [
    "Here we will use monge-ampere movement(r adaptive) technique to do mesh refinement\n",
    "\n",
    "You need to download checkpoints for movement first: https://github.com/pyroteus/movement.git"
   ]
  },
  {
   "cell_type": "code",
   "execution_count": null,
   "metadata": {},
   "outputs": [],
   "source": [
    "for u in tqdm(us):\n",
    "    \n",
    "    def pde_monitor(mesh):\n",
    "\n",
    "        # Define the Riemannian metric\n",
    "        P1_tensor = TensorFunctionSpace(mesh, \"CG\", 1)\n",
    "        metric = RiemannianMetric(P1_tensor)\n",
    "\n",
    "        # Compute the Hessian of the current solution\n",
    "        hessian = metric.compute_hessian(u)\n",
    "\n",
    "        P1 = FunctionSpace(mesh, \"CG\", 1)\n",
    "        \n",
    "        beta = Constant(0.1)\n",
    "        Hnorm = Function(P1).interpolate(sqrt(inner(hessian, hessian)))\n",
    "        Hnorm_max = Hnorm.dat.data[:].max()                                 \n",
    "        monitor = Function(P1).interpolate(1 + beta * Hnorm/Hnorm_max)\n",
    "        \n",
    "        return monitor\n",
    "    mover = MongeAmpereMover(mesh, pde_monitor, method=\"quasi_newton\")\n",
    "    mover.move()"
   ]
  },
  {
   "cell_type": "code",
   "execution_count": null,
   "metadata": {},
   "outputs": [],
   "source": [
    "# Generate observations by adding some noise on u\n",
    "scale_noise: float = 2*1e-4\n",
    "seed: int = 1234\n",
    "np.random.seed(seed)\n",
    "us_obs = []\n",
    "for u in tqdm(us):\n",
    "    u_obs = Function(V).assign(u)\n",
    "    u_obs.dat.data[:] += scale_noise * np.random.randn(V.dim())\n",
    "    us_obs.append(u_obs)"
   ]
  },
  {
   "cell_type": "code",
   "execution_count": null,
   "metadata": {},
   "outputs": [],
   "source": [
    "# Visualize one of the training data\n",
    "fig, axs = plt.subplots(1, 3, figsize=(15, 5))\n",
    "\n",
    "# Plot k\n",
    "k_plot = tricontourf(ks[0], axes=axs[0])\n",
    "plt.colorbar(k_plot, ax=axs[0])\n",
    "axs[0].set_title('k')\n",
    "\n",
    "# Plot u\n",
    "u_plot = tricontourf(us[0], axes=axs[1])\n",
    "plt.colorbar(u_plot, ax=axs[1])\n",
    "axs[1].set_title('u')\n",
    "\n",
    "# Plot u_obs\n",
    "u_obs_plot = tricontourf(us_obs[0], axes=axs[2])\n",
    "plt.colorbar(u_obs_plot, ax=axs[2])\n",
    "axs[2].set_title('u_obs')\n",
    "\n",
    "plt.tight_layout()\n",
    "plt.show()"
   ]
  },
  {
   "cell_type": "markdown",
   "metadata": {},
   "source": [
    "Please note we are very interested in the curvature and grad of the plot above because we need to make sure that the movement is making the right adjustments(adding high resolution) on the area with high curvature"
   ]
  },
  {
   "cell_type": "code",
   "execution_count": null,
   "metadata": {},
   "outputs": [],
   "source": [
    "#visualize adapted mesh\n",
    "fig, axes = plt.subplots(figsize=(12, 6))\n",
    "triplot(mesh, axes=axes)\n",
    "axes.legend()\n",
    "plt.show()"
   ]
  },
  {
   "cell_type": "code",
   "execution_count": null,
   "metadata": {},
   "outputs": [],
   "source": [
    "# you do not need to run this part at the moment\n",
    "import torch\n",
    "from torch.utils.data import Dataset\n",
    "from firedrake.ml.pytorch import *\n",
    "# Define BatchElement and BatchedElement data classes\n",
    "from dataclasses import dataclass\n",
    "from typing import NamedTuple, List, Optional\n",
    "\n",
    "@dataclass\n",
    "class BatchElement:\n",
    "    target: torch.Tensor\n",
    "    u_obs: torch.Tensor\n",
    "    target_fd: Function\n",
    "    u_obs_fd: Function\n",
    "\n",
    "@dataclass\n",
    "class BatchedElement:\n",
    "    target: torch.Tensor\n",
    "    u_obs: torch.Tensor\n",
    "    target_fd: List[Function]\n",
    "    u_obs_fd: List[Function]\n",
    "    batch_elements: Optional[List[BatchElement]] = None\n",
    "\n",
    "# Define PDEDataset class\n",
    "class PDEDataset(Dataset):\n",
    "    def __init__(self, ks_train, us_obs_train):\n",
    "        self.data = [(k, u_obs) for k, u_obs in zip(ks_train, us_obs_train)]\n",
    "    \n",
    "    def __len__(self) -> int:\n",
    "        return len(self.data)\n",
    "\n",
    "    def __getitem__(self, idx: int) -> BatchElement:\n",
    "        target_fd, u_obs_fd = self.data[idx]\n",
    "        # Convert Firedrake functions to PyTorch tensors\n",
    "        target, u_obs = [to_torch(e) for e in [target_fd, u_obs_fd]]\n",
    "        return BatchElement(target=target, u_obs=u_obs, target_fd=target_fd, u_obs_fd=u_obs_fd)\n",
    "    \n",
    "    def collate(self, batch_elements: List[BatchElement]) -> BatchedElement:\n",
    "        batch_size = len(batch_elements)\n",
    "        n = max(e.u_obs.size(-1) for e in batch_elements)\n",
    "        m = max(e.target.size(-1) for e in batch_elements)\n",
    "\n",
    "        u_obs = torch.zeros(batch_size, n, dtype=batch_elements[0].u_obs.dtype)\n",
    "        target = torch.zeros(batch_size, m, dtype=batch_elements[0].target.dtype)\n",
    "        target_fd = []\n",
    "        u_obs_fd = []\n",
    "        for i, e in enumerate(batch_elements):\n",
    "            u_obs[i, :] = e.u_obs\n",
    "            target[i, :] = e.target\n",
    "            target_fd.append(e.target_fd)\n",
    "            u_obs_fd.append(e.u_obs_fd)\n",
    "\n",
    "        return BatchedElement(u_obs=u_obs, target=target,\n",
    "                              target_fd=target_fd, u_obs_fd=u_obs_fd,\n",
    "                              batch_elements=batch_elements)\n",
    "\n",
    "# Instantiate PDEDataset\n",
    "dataset = PDEDataset(ks_train, us_obs_train)\n",
    "\n",
    "# Get a single sample from the dataset\n",
    "sample = dataset[0]\n",
    "print(f\"target: {sample.target}\\nu_obs: {sample.u_obs}\")\n",
    "\n",
    "# Get a batch from the dataset\n",
    "batch_size = 4\n",
    "batch = dataset.collate([dataset[i] for i in range(batch_size)])\n",
    "print(f\"batch u_obs size: {batch.u_obs.size()}\\nbatch target size: {batch.target.size()}\")\n"
   ]
  }
 ],
 "metadata": {
  "language_info": {
   "name": "python"
  },
  "orig_nbformat": 4
 },
 "nbformat": 4,
 "nbformat_minor": 2
}
